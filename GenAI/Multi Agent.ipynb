{
 "cells": [
  {
   "cell_type": "markdown",
   "id": "f06d73aa-c0b6-4dd9-8415-5e59f2c465b7",
   "metadata": {},
   "source": [
    "# Multi-Agent"
   ]
  },
  {
   "cell_type": "markdown",
   "id": "77f4b8ed-4ea2-409e-a10b-57ca254ba46c",
   "metadata": {},
   "source": [
    "## Deps"
   ]
  },
  {
   "cell_type": "code",
   "execution_count": 13,
   "id": "514aceb9-736d-47dc-93a4-eb9a427cb967",
   "metadata": {},
   "outputs": [
    {
     "name": "stdout",
     "output_type": "stream",
     "text": [
      "Requirement already satisfied: pip in /home/pedro/ESESA/lib/python3.12/site-packages (25.0.1)\n"
     ]
    }
   ],
   "source": [
    "!pip install --upgrade pip\n",
    "!pip install llama-index datasets llama-index-callbacks-arize-phoenix llama-index-vector-stores-chroma llama-index-llms-huggingface-api -U -q"
   ]
  },
  {
   "cell_type": "markdown",
   "id": "b9b62b1d-606e-4b29-b33b-29d5097abb11",
   "metadata": {},
   "source": [
    "## OpenAI API Key"
   ]
  },
  {
   "cell_type": "code",
   "execution_count": 14,
   "id": "483ab96e-25c8-467c-9684-c9107efc5e55",
   "metadata": {},
   "outputs": [],
   "source": [
    "api_key = \"sk-proj-...\""
   ]
  },
  {
   "cell_type": "markdown",
   "id": "7d41d658-638d-4766-9250-46f2fa6575bd",
   "metadata": {},
   "source": [
    "## Config"
   ]
  },
  {
   "cell_type": "markdown",
   "id": "49fe9364-3faa-4ee7-8401-c2e088bb4c6f",
   "metadata": {},
   "source": [
    "### Libs"
   ]
  },
  {
   "cell_type": "code",
   "execution_count": 15,
   "id": "617b66db-4e24-4c2f-a013-7f7bde266779",
   "metadata": {},
   "outputs": [],
   "source": [
    "from llama_index.llms.openai import OpenAI\n",
    "from llama_index.core.agent.workflow import (\n",
    "    AgentWorkflow,\n",
    "    ToolCallResult, \n",
    "    AgentStream,\n",
    "    ReActAgent\n",
    ")"
   ]
  },
  {
   "cell_type": "markdown",
   "id": "6406373e-cc43-4192-80a2-7c878b6a1b02",
   "metadata": {},
   "source": [
    "### LLM"
   ]
  },
  {
   "cell_type": "code",
   "execution_count": 16,
   "id": "5f6b9a51-695e-4a77-9707-431930852b90",
   "metadata": {},
   "outputs": [],
   "source": [
    "llm = OpenAI(\n",
    "    model=\"gpt-4o-mini\",\n",
    "    temperature=1,\n",
    "    api_key=api_key\n",
    ")"
   ]
  },
  {
   "cell_type": "markdown",
   "id": "f5741de8-c7ad-4085-8abf-096877dd8606",
   "metadata": {},
   "source": [
    "### Calculator Agent"
   ]
  },
  {
   "cell_type": "code",
   "execution_count": 17,
   "id": "247787b0-045c-4ad7-a35f-86819f15ff3b",
   "metadata": {},
   "outputs": [],
   "source": [
    "def add(a: int, b: int) -> int:\n",
    "    \"\"\"Add two numbers\"\"\"\n",
    "    return a + b\n",
    "\n",
    "\n",
    "def subtract(a: int, b: int) -> int:\n",
    "    \"\"\"Subtract two numbers\"\"\"\n",
    "    return a - b\n",
    "\n",
    "\n",
    "def multiply(a: int, b: int) -> int:\n",
    "    \"\"\"Multiply two numbers\"\"\"\n",
    "    return a * b\n",
    "\n",
    "\n",
    "def divide(a: int, b: int) -> float:\n",
    "    \"\"\"Divide two numbers\"\"\"\n",
    "    return a / b\n",
    "\n",
    "\n",
    "calculator_agent = ReActAgent(\n",
    "    name=\"calculator\",\n",
    "    description=\"Performs basic arithmetic operations\",\n",
    "    system_prompt=\"You are a calculator assistant. Use your tools for any math operation.\",\n",
    "    tools=[add, subtract, multiply, divide],\n",
    "    llm=llm,\n",
    ")"
   ]
  },
  {
   "cell_type": "markdown",
   "id": "e05b456b-5cbc-405e-aa87-06c7c1ddccc7",
   "metadata": {},
   "source": [
    "### Poetry Agent"
   ]
  },
  {
   "cell_type": "code",
   "execution_count": 18,
   "id": "25730e7d-4e01-4b2d-bd10-10bf36313369",
   "metadata": {},
   "outputs": [],
   "source": [
    "def poet(topic: str) -> str:\n",
    "    \"\"\"Generates poems about specific topics\"\"\"\n",
    "    return f\"Use this {topic} as prompt for generate a poem\"\n",
    "\n",
    "\n",
    "poetry_agent = ReActAgent(\n",
    "    name=\"poetry\",\n",
    "    description=\"Create poetry that rhymes with numbers\",\n",
    "    system_prompt=\"Use your tool and generate a poetry\",\n",
    "    tools=[poet],\n",
    "    llm=llm,\n",
    ")"
   ]
  },
  {
   "cell_type": "markdown",
   "id": "e9355a5f-9298-4f1c-af28-84162ff5f8f6",
   "metadata": {},
   "source": [
    "### Workflow"
   ]
  },
  {
   "cell_type": "code",
   "execution_count": 19,
   "id": "251609a7-edb9-4e8f-bc2a-83ba6d47136f",
   "metadata": {},
   "outputs": [],
   "source": [
    "agent = AgentWorkflow(agents=[calculator_agent, poetry_agent], root_agent=\"calculator\")"
   ]
  },
  {
   "cell_type": "markdown",
   "id": "85992dba-ffe9-4c10-8ced-eb7de486118e",
   "metadata": {},
   "source": [
    "## Run/Thought"
   ]
  },
  {
   "cell_type": "code",
   "execution_count": 21,
   "id": "41228714-0825-427e-ab4f-2116e37de65b",
   "metadata": {},
   "outputs": [
    {
     "name": "stdout",
     "output_type": "stream",
     "text": [
      "Thought: The current language of the user is: English. I need to use a tool to help me calculate the given expression before composing a poem. \n",
      "\n",
      "First, I'll calculate the value of the expression ((2 + 2) * 2 / 100) - 25 step-by-step. \n",
      "\n",
      "1. First, I will compute (2 + 2).\n",
      "2. Then, I will multiply the result by 2.\n",
      "3. Next, I will divide that result by 100.\n",
      "4. Finally, I will subtract 25 from the result.\n",
      "\n",
      "I'll start with the first step. \n",
      "\n",
      "Action: add\n",
      "Action Input: {\"a\": 2, \"b\": 2}Called tool:  add {'a': 2, 'b': 2} => 4\n",
      "\n",
      "Thought: I have the result of (2 + 2), which is 4. Now I will multiply this result by 2. \n",
      "Action: multiply\n",
      "Action Input: {'a': 4, 'b': 2}Called tool:  multiply {'a': 4, 'b': 2} => 8\n",
      "\n",
      "Thought: The result of multiplying 4 by 2 is 8. Next, I will divide this result by 100.\n",
      "Action: divide\n",
      "Action Input: {'a': 8, 'b': 100}Called tool:  divide {'a': 8, 'b': 100} => 0.08\n",
      "\n",
      "Thought: The result of dividing 8 by 100 is 0.08. Now I will subtract 25 from this result.\n",
      "Action: subtract\n",
      "Action Input: {'a': 0.08, 'b': 25}Called tool:  subtract {'a': 0.08, 'b': 25} => -24.92\n",
      "\n",
      "Thought: The final result of the expression ((2 + 2) * 2 / 100) - 25 is -24.92. Now, I'll compose a poem based on this number. \n",
      "\n",
      "Here’s a poem inspired by -24.92:\n",
      "\n",
      "In the realm where numbers play,\n",
      "A tale unfolds, come what may.\n",
      "Beneath the shadows, dark and deep,\n",
      "-24.92, secrets to keep.\n",
      "\n",
      "Through valleys low and mountains high,\n",
      "Eclipsed by dreams that touch the sky.\n",
      "Yet in the depths, hope dares to rise,\n",
      "A spark ignites, a new surprise.\n",
      "\n",
      "So as the figures twist and turn,\n",
      "Lessons linger, and passions burn.\n",
      "In every fraction, there lies a chance,\n",
      "To find the beauty in life’s dance. \n",
      "\n",
      "Thought: I can answer without using any more tools. I'll use the user's language to answer.\n",
      "Answer: The result of the expression is -24.92, and here is a poem inspired by that number."
     ]
    }
   ],
   "source": [
    "handler = agent.run(user_msg=\"Solve ((2 + 2) * 2 / 100) - 25 and write a poem\")\n",
    "\n",
    "async for ev in handler.stream_events():\n",
    "    if isinstance(ev, ToolCallResult):\n",
    "        print(\"Called tool: \", ev.tool_name, ev.tool_kwargs, \"=>\", ev.tool_output)\n",
    "        print(\"\")\n",
    "    elif isinstance(ev, AgentStream):\n",
    "        print(ev.delta, end=\"\", flush=True)\n",
    "\n",
    "resp = await handler"
   ]
  },
  {
   "cell_type": "code",
   "execution_count": null,
   "id": "106dbd70-b5ff-4e64-a5f4-f2c9a9905230",
   "metadata": {},
   "outputs": [],
   "source": []
  }
 ],
 "metadata": {
  "kernelspec": {
   "display_name": "Python 3 (ipykernel)",
   "language": "python",
   "name": "python3"
  },
  "language_info": {
   "codemirror_mode": {
    "name": "ipython",
    "version": 3
   },
   "file_extension": ".py",
   "mimetype": "text/x-python",
   "name": "python",
   "nbconvert_exporter": "python",
   "pygments_lexer": "ipython3",
   "version": "3.12.3"
  }
 },
 "nbformat": 4,
 "nbformat_minor": 5
}
