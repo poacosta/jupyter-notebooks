{
 "cells": [
  {
   "cell_type": "markdown",
   "id": "f06d73aa-c0b6-4dd9-8415-5e59f2c465b7",
   "metadata": {},
   "source": [
    "# Basic Agent"
   ]
  },
  {
   "cell_type": "markdown",
   "id": "77f4b8ed-4ea2-409e-a10b-57ca254ba46c",
   "metadata": {},
   "source": [
    "## Deps"
   ]
  },
  {
   "cell_type": "code",
   "execution_count": 1,
   "id": "514aceb9-736d-47dc-93a4-eb9a427cb967",
   "metadata": {},
   "outputs": [
    {
     "name": "stdout",
     "output_type": "stream",
     "text": [
      "Requirement already satisfied: pip in /home/pedro/ESESA/lib/python3.12/site-packages (25.0.1)\n"
     ]
    }
   ],
   "source": [
    "!pip install --upgrade pip\n",
    "!pip install llama-index datasets llama-index-callbacks-arize-phoenix llama-index-vector-stores-chroma llama-index-llms-huggingface-api -U -q"
   ]
  },
  {
   "cell_type": "markdown",
   "id": "39ebb40f-7a32-4915-800b-b35510dacfd5",
   "metadata": {},
   "source": [
    "## OpenAI API Key"
   ]
  },
  {
   "cell_type": "code",
   "execution_count": 2,
   "id": "483ab96e-25c8-467c-9684-c9107efc5e55",
   "metadata": {},
   "outputs": [],
   "source": [
    "api_key = \"sk-proj-...\""
   ]
  },
  {
   "cell_type": "markdown",
   "id": "7d41d658-638d-4766-9250-46f2fa6575bd",
   "metadata": {},
   "source": [
    "## Config"
   ]
  },
  {
   "cell_type": "markdown",
   "id": "6407a275-2cd6-4542-9981-d8affba87378",
   "metadata": {},
   "source": [
    "### Libs"
   ]
  },
  {
   "cell_type": "code",
   "execution_count": 3,
   "id": "a5d23057-ff7c-4b7d-aa65-1b907e175066",
   "metadata": {},
   "outputs": [],
   "source": [
    "from llama_index.llms.openai import OpenAI\n",
    "from llama_index.core.agent.workflow import AgentWorkflow, ToolCallResult, AgentStream"
   ]
  },
  {
   "cell_type": "markdown",
   "id": "e3835170-6846-406f-8103-70cde1178eb9",
   "metadata": {},
   "source": [
    "### LLM"
   ]
  },
  {
   "cell_type": "code",
   "execution_count": 4,
   "id": "4c1c1d0d-4f62-4670-a3f0-203abeb43335",
   "metadata": {},
   "outputs": [],
   "source": [
    "llm = OpenAI(\n",
    "    model=\"gpt-3.5-turbo\",\n",
    "    temperature=0,\n",
    "    api_key=api_key\n",
    ")"
   ]
  },
  {
   "cell_type": "markdown",
   "id": "d69a43dd-5479-4721-a93b-81bb8eab0180",
   "metadata": {},
   "source": [
    "## Agent"
   ]
  },
  {
   "cell_type": "code",
   "execution_count": 5,
   "id": "247787b0-045c-4ad7-a35f-86819f15ff3b",
   "metadata": {},
   "outputs": [],
   "source": [
    "def add(a: int, b: int) -> int:\n",
    "    \"\"\"Add two numbers\"\"\"\n",
    "    return a + b\n",
    "\n",
    "\n",
    "def subtract(a: int, b: int) -> int:\n",
    "    \"\"\"Subtract two numbers\"\"\"\n",
    "    return a - b\n",
    "\n",
    "\n",
    "def multiply(a: int, b: int) -> int:\n",
    "    \"\"\"Multiply two numbers\"\"\"\n",
    "    return a * b\n",
    "\n",
    "\n",
    "def divide(a: int, b: int) -> float:\n",
    "    \"\"\"Divide two numbers\"\"\"\n",
    "    return a / b\n",
    "\n",
    "\n",
    "agent = AgentWorkflow.from_tools_or_functions(\n",
    "    tools_or_functions=[add, subtract, multiply, divide],\n",
    "    llm=llm,\n",
    "    system_prompt=\"You are a math agent that can add, subtract, multiply, and divide numbers using provided tools.\",\n",
    ")"
   ]
  },
  {
   "cell_type": "markdown",
   "id": "85992dba-ffe9-4c10-8ced-eb7de486118e",
   "metadata": {},
   "source": [
    "## Run/Thought"
   ]
  },
  {
   "cell_type": "markdown",
   "id": "c15933ac-336b-4a10-8b04-5d74da9bb130",
   "metadata": {},
   "source": [
    "### Without Context"
   ]
  },
  {
   "cell_type": "code",
   "execution_count": 6,
   "id": "41228714-0825-427e-ab4f-2116e37de65b",
   "metadata": {},
   "outputs": [
    {
     "name": "stdout",
     "output_type": "stream",
     "text": [
      "Called tool:  add {'a': 2, 'b': 2} => 4\n",
      "\n",
      "Called tool:  multiply {'a': 4, 'b': 2} => 8\n",
      "\n",
      "Called tool:  divide {'a': 8, 'b': 100} => 0.08\n",
      "\n",
      "Called tool:  subtract {'a': 25, 'b': 25} => 0\n",
      "\n",
      "Called tool:  subtract {'a': 0.08, 'b': 0} => 0.08\n",
      "\n",
      "The result of the expression ((2 + 2) * 2 / 100) - 25 is 0.08."
     ]
    }
   ],
   "source": [
    "handler = None\n",
    "handler = agent.run(\"What is ((2 + 2) * 2 / 100) - 25?\")\n",
    "\n",
    "async for ev in handler.stream_events():\n",
    "    if isinstance(ev, ToolCallResult):\n",
    "        print(\"Called tool: \", ev.tool_name, ev.tool_kwargs, \"=>\", ev.tool_output)\n",
    "        print(\"\")\n",
    "    elif isinstance(ev, AgentStream):\n",
    "        print(ev.delta, end=\"\", flush=True)\n",
    "\n",
    "resp = await handler"
   ]
  },
  {
   "cell_type": "markdown",
   "id": "cedd100f-7674-4e11-877a-6e8aa86a9e93",
   "metadata": {},
   "source": [
    "### With Context"
   ]
  },
  {
   "cell_type": "code",
   "execution_count": 8,
   "id": "36e064f5-375f-4d87-963b-dc0869f4a4d0",
   "metadata": {},
   "outputs": [
    {
     "data": {
      "text/plain": [
       "'Dividing the result by 2 gives 4.0.'"
      ]
     },
     "execution_count": 8,
     "metadata": {},
     "output_type": "execute_result"
    }
   ],
   "source": [
    "from llama_index.core.workflow import Context\n",
    "\n",
    "ctx = Context(agent)\n",
    "\n",
    "response = None\n",
    "response = await agent.run(\"What is ((2 + 2) * 2 / 100) - 25?\", ctx=ctx) # -24.92\n",
    "response = await agent.run(\"Add 25 to the result\", ctx=ctx) # 0.08\n",
    "response = await agent.run(\"Result * 100\", ctx=ctx) # 8\n",
    "response = await agent.run(\"Divide then by 2\", ctx=ctx) # 8/2 = 4\n",
    "\n",
    "response.response.blocks[0].text"
   ]
  },
  {
   "cell_type": "code",
   "execution_count": null,
   "id": "c48d5912-3e75-485b-a80c-d53a675a9cd1",
   "metadata": {},
   "outputs": [],
   "source": []
  }
 ],
 "metadata": {
  "kernelspec": {
   "display_name": "Python 3 (ipykernel)",
   "language": "python",
   "name": "python3"
  },
  "language_info": {
   "codemirror_mode": {
    "name": "ipython",
    "version": 3
   },
   "file_extension": ".py",
   "mimetype": "text/x-python",
   "name": "python",
   "nbconvert_exporter": "python",
   "pygments_lexer": "ipython3",
   "version": "3.12.3"
  }
 },
 "nbformat": 4,
 "nbformat_minor": 5
}
