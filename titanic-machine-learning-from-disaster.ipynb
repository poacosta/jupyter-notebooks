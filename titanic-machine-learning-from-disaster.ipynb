{
  "nbformat": 4,
  "nbformat_minor": 0,
  "metadata": {
    "colab": {
      "provenance": [],
      "authorship_tag": "ABX9TyNBCTEn2LBhbskCI01IvgoI",
      "include_colab_link": true
    },
    "kernelspec": {
      "name": "python3",
      "display_name": "Python 3"
    },
    "language_info": {
      "name": "python"
    }
  },
  "cells": [
    {
      "cell_type": "markdown",
      "metadata": {
        "id": "view-in-github",
        "colab_type": "text"
      },
      "source": [
        "<a href=\"https://colab.research.google.com/gist/poacosta/65a0ec1e4d4144b275d0bc4799c20716/titanic-machine-learning-from-disaster.ipynb\" target=\"_parent\"><img src=\"https://colab.research.google.com/assets/colab-badge.svg\" alt=\"Open In Colab\"/></a>"
      ]
    },
    {
      "cell_type": "markdown",
      "source": [
        "# Titanic - Machine Learning from Disaster (0.78468)\n",
        "\n",
        "* Challenge: https://www.kaggle.com/competitions/titanic/overview"
      ],
      "metadata": {
        "id": "3C8dTMfbA5hA"
      }
    },
    {
      "cell_type": "code",
      "execution_count": 31,
      "metadata": {
        "id": "PvXgFdvxxQ-2"
      },
      "outputs": [],
      "source": [
        "#@title ### Import libraries\n",
        "\n",
        "import pandas as pd\n",
        "import numpy as np\n",
        "from sklearn.model_selection import train_test_split, cross_val_score\n",
        "from sklearn.preprocessing import StandardScaler\n",
        "from sklearn.impute import SimpleImputer\n",
        "from sklearn.ensemble import RandomForestClassifier\n",
        "from sklearn.metrics import accuracy_score, classification_report\n",
        "import seaborn as sns\n",
        "import matplotlib.pyplot as plt"
      ]
    },
    {
      "cell_type": "code",
      "source": [
        "#@title ### Feature Engineering\n",
        "\n",
        "def engineer_features(df):\n",
        "    # Extract titles from names\n",
        "    df['Title'] = df['Name'].str.extract(' ([A-Za-z]+)\\.', expand=False)\n",
        "    df['Title'] = df['Title'].replace(['Lady', 'Countess','Capt', 'Col','Don', 'Dr', 'Major',\n",
        "                                     'Rev', 'Sir', 'Jonkheer', 'Dona'], 'Rare')\n",
        "    df['Title'] = df['Title'].replace('Mlle', 'Miss')\n",
        "    df['Title'] = df['Title'].replace('Ms', 'Miss')\n",
        "    df['Title'] = df['Title'].replace('Mme', 'Mrs')\n",
        "\n",
        "    # Create family size feature\n",
        "    df['FamilySize'] = df['SibSp'] + df['Parch'] + 1\n",
        "\n",
        "    # Create is_alone feature\n",
        "    df['IsAlone'] = (df['FamilySize'] == 1).astype(int)\n",
        "\n",
        "    # Bin age\n",
        "    df['AgeBand'] = pd.cut(df['Age'].fillna(df['Age'].mean()),\n",
        "                          bins=[0, 16, 32, 48, 64, np.inf],\n",
        "                          labels=['Child', 'Young', 'Adult', 'MiddleAge', 'Senior'])\n",
        "\n",
        "    # Bin fare\n",
        "    df['FareBand'] = pd.qcut(df['Fare'].fillna(-1), 4, labels=['Low', 'Mid', 'High', 'VeryHigh'])\n",
        "\n",
        "    return df"
      ],
      "metadata": {
        "id": "3PrIQ8WXxcqn"
      },
      "execution_count": 32,
      "outputs": []
    },
    {
      "cell_type": "code",
      "source": [
        "#@title ### Data Preprocessing\n",
        "\n",
        "def preprocess_data(df):\n",
        "    # Drop unnecessary columns\n",
        "    drop_cols = ['Name', 'Ticket', 'Cabin', 'PassengerId']\n",
        "    df = df.drop(drop_cols, axis=1)\n",
        "\n",
        "    # Convert categorical variables\n",
        "    categorical_cols = ['Sex', 'Title', 'Embarked', 'AgeBand', 'FareBand']\n",
        "    df = pd.get_dummies(df, columns=categorical_cols, drop_first=True)\n",
        "\n",
        "    return df"
      ],
      "metadata": {
        "id": "ee5AFuNFxfWq"
      },
      "execution_count": 33,
      "outputs": []
    },
    {
      "cell_type": "code",
      "source": [
        "#@title ### Model Training\n",
        "\n",
        "def train_model(X_train, y_train):\n",
        "    rf = RandomForestClassifier(n_estimators=100, max_depth=5, random_state=42)\n",
        "    rf.fit(X_train, y_train)\n",
        "    return rf"
      ],
      "metadata": {
        "id": "vVtx4_G8xhoP"
      },
      "execution_count": 34,
      "outputs": []
    },
    {
      "cell_type": "code",
      "source": [
        "#@title ### Feature Importance Plot\n",
        "\n",
        "def plot_feature_importance(model, feature_names):\n",
        "    importance = pd.DataFrame({\n",
        "        'feature': feature_names,\n",
        "        'importance': model.feature_importances_\n",
        "    }).sort_values('importance', ascending=False)\n",
        "\n",
        "    plt.figure(figsize=(10, 6))\n",
        "    sns.barplot(data=importance.head(10), x='importance', y='feature')\n",
        "    plt.title('Top 10 Most Important Features')\n",
        "    plt.tight_layout()\n",
        "    plt.show()"
      ],
      "metadata": {
        "id": "jKTb8TZcxjd7"
      },
      "execution_count": 35,
      "outputs": []
    },
    {
      "cell_type": "code",
      "source": [
        "#@title ### Pipeline\n",
        "\n",
        "# Load data\n",
        "train_data = pd.read_csv('train.csv')\n",
        "test_data = pd.read_csv('test.csv')\n",
        "\n",
        "# Feature engineering\n",
        "train_data = engineer_features(train_data)\n",
        "test_data = engineer_features(test_data)\n",
        "\n",
        "# Preprocess data\n",
        "X = preprocess_data(train_data.drop('Survived', axis=1))\n",
        "y = train_data['Survived']\n",
        "\n",
        "# Split data\n",
        "X_train, X_val, y_train, y_val = train_test_split(X, y, test_size=0.2, random_state=42)\n",
        "\n",
        "# Train model\n",
        "model = train_model(X_train, y_train)\n",
        "\n",
        "# Evaluate model\n",
        "val_pred = model.predict(X_val)\n",
        "print(\"\\nValidation Metrics:\")\n",
        "print(classification_report(y_val, val_pred))\n",
        "\n",
        "# Cross-validation\n",
        "cv_scores = cross_val_score(model, X, y, cv=5)\n",
        "print(f\"\\nCross-validation scores: {cv_scores}\")\n",
        "print(f\"Average CV score: {cv_scores.mean():.3f} (+/- {cv_scores.std() * 2:.3f})\")\n",
        "\n",
        "# Feature importance\n",
        "plot_feature_importance(model, X.columns)\n",
        "\n",
        "# Prepare submission\n",
        "test_processed = preprocess_data(test_data)\n",
        "submission_pred = model.predict(test_processed)\n",
        "submission = pd.DataFrame({\n",
        "    'PassengerId': test_data['PassengerId'],\n",
        "    'Survived': submission_pred\n",
        "})\n",
        "submission.to_csv('submission.csv', index=False)"
      ],
      "metadata": {
        "colab": {
          "base_uri": "https://localhost:8080/",
          "height": 850
        },
        "id": "9yd69hsUxnEc",
        "outputId": "a186c999-0b0d-4269-9855-2e3c887635ce"
      },
      "execution_count": 36,
      "outputs": [
        {
          "output_type": "stream",
          "name": "stdout",
          "text": [
            "\n",
            "Validation Metrics:\n",
            "              precision    recall  f1-score   support\n",
            "\n",
            "           0       0.83      0.88      0.85       105\n",
            "           1       0.81      0.74      0.77        74\n",
            "\n",
            "    accuracy                           0.82       179\n",
            "   macro avg       0.82      0.81      0.81       179\n",
            "weighted avg       0.82      0.82      0.82       179\n",
            "\n",
            "\n",
            "Cross-validation scores: [0.83798883 0.81460674 0.8258427  0.79775281 0.83146067]\n",
            "Average CV score: 0.822 (+/- 0.028)\n"
          ]
        },
        {
          "output_type": "display_data",
          "data": {
            "text/plain": [
              "<Figure size 1000x600 with 1 Axes>"
            ],
            "image/png": "[encoded data removed]"
          },
          "metadata": {}
        }
      ]
    }
  ]
}