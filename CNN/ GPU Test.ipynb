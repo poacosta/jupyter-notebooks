{
 "cells": [
  {
   "cell_type": "markdown",
   "id": "062d4fd8-d957-4123-94cb-1593b69a8d77",
   "metadata": {},
   "source": [
    "# GPU Test"
   ]
  },
  {
   "cell_type": "code",
   "execution_count": 3,
   "id": "8561b807-8ca0-42d1-b0f7-67c80d846782",
   "metadata": {},
   "outputs": [
    {
     "name": "stdout",
     "output_type": "stream",
     "text": [
      "TensorFlow version: 2.15.1\n",
      "Built with CUDA: True\n",
      "GPU devices: [PhysicalDevice(name='/physical_device:GPU:0', device_type='GPU')]\n",
      "GPU details: {'compute_capability': (12, 0), 'device_name': 'NVIDIA GeForce RTX 5070 Ti'}\n",
      "GPU available: True\n",
      "GPU memory growth enabled\n"
     ]
    },
    {
     "name": "stderr",
     "output_type": "stream",
     "text": [
      "2025-07-09 17:20:32.164094: I external/local_xla/xla/stream_executor/cuda/cuda_executor.cc:887] could not open file to read NUMA node: /sys/bus/pci/devices/0000:02:00.0/numa_node\n",
      "Your kernel may have been built without NUMA support.\n",
      "2025-07-09 17:20:32.164227: I external/local_xla/xla/stream_executor/cuda/cuda_executor.cc:887] could not open file to read NUMA node: /sys/bus/pci/devices/0000:02:00.0/numa_node\n",
      "Your kernel may have been built without NUMA support.\n",
      "2025-07-09 17:20:32.164246: I external/local_xla/xla/stream_executor/cuda/cuda_executor.cc:887] could not open file to read NUMA node: /sys/bus/pci/devices/0000:02:00.0/numa_node\n",
      "Your kernel may have been built without NUMA support.\n",
      "2025-07-09 17:20:32.164256: I external/local_xla/xla/stream_executor/cuda/cuda_executor.cc:887] could not open file to read NUMA node: /sys/bus/pci/devices/0000:02:00.0/numa_node\n",
      "Your kernel may have been built without NUMA support.\n",
      "2025-07-09 17:20:32.164259: W tensorflow/core/common_runtime/gpu/gpu_device.cc:2348] TensorFlow was not built with CUDA kernel binaries compatible with compute capability 12.0. CUDA kernels will be jit-compiled from PTX, which could take 30 minutes or longer.\n",
      "2025-07-09 17:20:32.164450: I external/local_xla/xla/stream_executor/cuda/cuda_executor.cc:887] could not open file to read NUMA node: /sys/bus/pci/devices/0000:02:00.0/numa_node\n",
      "Your kernel may have been built without NUMA support.\n",
      "2025-07-09 17:20:32.164463: I tensorflow/core/common_runtime/gpu/gpu_device.cc:2022] Could not identify NUMA node of platform GPU id 0, defaulting to 0.  Your kernel may not have been built with NUMA support.\n",
      "2025-07-09 17:20:32.164478: I external/local_xla/xla/stream_executor/cuda/cuda_executor.cc:887] could not open file to read NUMA node: /sys/bus/pci/devices/0000:02:00.0/numa_node\n",
      "Your kernel may have been built without NUMA support.\n",
      "2025-07-09 17:20:32.164489: I tensorflow/core/common_runtime/gpu/gpu_device.cc:1929] Created device /device:GPU:0 with 13123 MB memory:  -> device: 0, name: NVIDIA GeForce RTX 5070 Ti, pci bus id: 0000:02:00.0, compute capability: 12.0\n"
     ]
    }
   ],
   "source": [
    "import tensorflow as tf\n",
    "import os\n",
    "\n",
    "# Suppress some warnings\n",
    "os.environ['TF_CPP_MIN_LOG_LEVEL'] = '2'\n",
    "\n",
    "print(\"TensorFlow version:\", tf.__version__)\n",
    "print(\"Built with CUDA:\", tf.test.is_built_with_cuda())\n",
    "\n",
    "# Correct way to check CUDA/cuDNN info\n",
    "print(\"GPU devices:\", tf.config.list_physical_devices('GPU'))\n",
    "\n",
    "# Get detailed device info\n",
    "if tf.config.list_physical_devices('GPU'):\n",
    "    gpu_details = tf.config.experimental.get_device_details(tf.config.list_physical_devices('GPU')[0])\n",
    "    print(\"GPU details:\", gpu_details)\n",
    "\n",
    "# Test GPU availability\n",
    "print(\"GPU available:\", tf.test.is_gpu_available())\n",
    "\n",
    "# Configure GPU if available\n",
    "gpus = tf.config.experimental.list_physical_devices('GPU')\n",
    "if gpus:\n",
    "    try:\n",
    "        tf.config.experimental.set_memory_growth(gpus[0], True)\n",
    "        print(\"GPU memory growth enabled\")\n",
    "    except RuntimeError as e:\n",
    "        print(f\"GPU configuration error: {e}\")"
   ]
  },
  {
   "cell_type": "code",
   "execution_count": 5,
   "id": "ea809af5-83ed-43b5-acab-6f28e6b238eb",
   "metadata": {},
   "outputs": [
    {
     "name": "stdout",
     "output_type": "stream",
     "text": [
      "\n",
      "=== Testing GPU Computation ===\n",
      "Testing basic matrix operations...\n",
      "✓ GPU matrix multiplication successful\n",
      "Testing CNN model creation...\n",
      "✓ CNN model creation successful\n",
      "✓ Forward pass successful - Output shape: (4, 2)\n"
     ]
    }
   ],
   "source": [
    "# Test actual GPU computation\n",
    "if tf.config.list_physical_devices('GPU'):\n",
    "    print(\"\\n=== Testing GPU Computation ===\")\n",
    "    \n",
    "    with tf.device('/GPU:0'):\n",
    "        try:\n",
    "            # Test matrix multiplication\n",
    "            print(\"Testing basic matrix operations...\")\n",
    "            a = tf.random.normal((2000, 2000))\n",
    "            b = tf.random.normal((2000, 2000))\n",
    "            c = tf.matmul(a, b)\n",
    "            print(\"✓ GPU matrix multiplication successful\")\n",
    "            \n",
    "            # Test your original model\n",
    "            print(\"Testing CNN model creation...\")\n",
    "            from tensorflow.keras.models import Sequential\n",
    "            from tensorflow.keras.layers import Conv2D, BatchNormalization, MaxPooling2D, Dropout, Flatten, Dense\n",
    "            \n",
    "            model = Sequential([\n",
    "                Conv2D(32, (3, 3), padding='same', activation='relu'),\n",
    "                BatchNormalization(),\n",
    "                MaxPooling2D((2, 2), strides=2),\n",
    "                Dropout(0.2),\n",
    "                Conv2D(64, (3, 3), padding='same', activation='relu'),\n",
    "                BatchNormalization(),\n",
    "                MaxPooling2D((2, 2), strides=2),\n",
    "                Dropout(0.2),\n",
    "                Conv2D(128, (3, 3), padding='same', activation='relu'),\n",
    "                BatchNormalization(),\n",
    "                MaxPooling2D((2, 2), strides=2),\n",
    "                Dropout(0.2),\n",
    "                Flatten(),\n",
    "                Dense(512, activation='relu'),\n",
    "                Dropout(0.5),\n",
    "                Dense(2, activation='softmax')\n",
    "            ])\n",
    "            \n",
    "            model.build((None, 200, 200, 3))\n",
    "            print(\"✓ CNN model creation successful\")\n",
    "            \n",
    "            # Test forward pass\n",
    "            dummy_input = tf.random.normal((4, 200, 200, 3))\n",
    "            output = model(dummy_input)\n",
    "            print(f\"✓ Forward pass successful - Output shape: {output.shape}\")\n",
    "            \n",
    "        except Exception as e:\n",
    "            print(f\"✗ GPU computation failed: {e}\")\n",
    "            print(\"Falling back to CPU...\")\n",
    "            \n",
    "            # CPU fallback\n",
    "            with tf.device('/CPU:0'):\n",
    "                model = Sequential([\n",
    "                    Conv2D(32, (3, 3), padding='same', activation='relu'),\n",
    "                    BatchNormalization(),\n",
    "                    MaxPooling2D((2, 2), strides=2),\n",
    "                    Dropout(0.2),\n",
    "                    Conv2D(64, (3, 3), padding='same', activation='relu'),\n",
    "                    BatchNormalization(),\n",
    "                    MaxPooling2D((2, 2), strides=2),\n",
    "                    Dropout(0.2),\n",
    "                    Conv2D(128, (3, 3), padding='same', activation='relu'),\n",
    "                    BatchNormalization(),\n",
    "                    MaxPooling2D((2, 2), strides=2),\n",
    "                    Dropout(0.2),\n",
    "                    Flatten(),\n",
    "                    Dense(512, activation='relu'),\n",
    "                    Dropout(0.5),\n",
    "                    Dense(2, activation='softmax')\n",
    "                ])\n",
    "                model.build((None, 200, 200, 3))\n",
    "                dummy_input = tf.random.normal((4, 200, 200, 3))\n",
    "                output = model(dummy_input)\n",
    "                print(f\"✓ CPU fallback successful - Output shape: {output.shape}\")\n",
    "else:\n",
    "    print(\"No GPU devices found\")"
   ]
  },
  {
   "cell_type": "code",
   "execution_count": null,
   "id": "75083753-7187-4d49-962a-de61d95a5777",
   "metadata": {},
   "outputs": [],
   "source": []
  }
 ],
 "metadata": {
  "kernelspec": {
   "display_name": "Python 3 (ipykernel)",
   "language": "python",
   "name": "python3"
  },
  "language_info": {
   "codemirror_mode": {
    "name": "ipython",
    "version": 3
   },
   "file_extension": ".py",
   "mimetype": "text/x-python",
   "name": "python",
   "nbconvert_exporter": "python",
   "pygments_lexer": "ipython3",
   "version": "3.11.13"
  }
 },
 "nbformat": 4,
 "nbformat_minor": 5
}
