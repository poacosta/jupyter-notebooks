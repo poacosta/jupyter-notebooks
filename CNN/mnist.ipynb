{
  "cells": [
    {
      "cell_type": "markdown",
      "metadata": {
        "id": "view-in-github",
        "colab_type": "text"
      },
      "source": [
        "<a href=\"https://colab.research.google.com/gist/poacosta/7c85d782b57a3a7c5b7a7bc15314a27b/mnist.ipynb\" target=\"_parent\"><img src=\"https://colab.research.google.com/assets/colab-badge.svg\" alt=\"Open In Colab\"/></a>"
      ]
    },
    {
      "cell_type": "markdown",
      "source": [
        "# MNIST Handwritten Digit Classification\n",
        "\n",
        "This notebook demonstrates training a simple Convolutional Neural Network (CNN) to classify handwritten digits from the MNIST dataset."
      ],
      "metadata": {
        "id": "AqyqmG8ZL4JJ"
      }
    },
    {
      "cell_type": "code",
      "execution_count": 5,
      "metadata": {
        "id": "sfFs7J-z70BD"
      },
      "outputs": [],
      "source": [
        "# @title Load necessary libraries\n",
        "\n",
        "import numpy as np\n",
        "import keras\n",
        "from keras import layers\n",
        "import matplotlib.pyplot as plt"
      ]
    },
    {
      "cell_type": "code",
      "execution_count": 6,
      "metadata": {
        "id": "OzvsfmJd8jDp"
      },
      "outputs": [],
      "source": [
        "# @title Load the MNIST dataset\n",
        "\n",
        "data = keras.datasets.mnist.load_data()"
      ]
    },
    {
      "cell_type": "code",
      "source": [
        "# @title Train/Test\n",
        "\n",
        "(x_train, y_train), (x_test, y_test) = keras.datasets.mnist.load_data()"
      ],
      "metadata": {
        "id": "uQwisogUMYWK"
      },
      "execution_count": 7,
      "outputs": []
    },
    {
      "cell_type": "code",
      "source": [
        "# @title Preprocess the data\n",
        "\n",
        "# Scale pixel values to the range [0, 1]\n",
        "x_train = x_train.astype(\"float32\") / 255\n",
        "x_test = x_test.astype(\"float32\") / 255\n",
        "\n",
        "# Reshape images to have a single channel (grayscale)(28, 28, 1)\n",
        "x_train = np.expand_dims(x_train, -1)\n",
        "x_test = np.expand_dims(x_test, -1)\n",
        "\n",
        "# Convert class labels to one-hot encoded vectors\n",
        "y_train = keras.utils.to_categorical(y_train, 10)\n",
        "y_test = keras.utils.to_categorical(y_test, 10)"
      ],
      "metadata": {
        "id": "loIkIrvqMhVL"
      },
      "execution_count": 8,
      "outputs": []
    },
    {
      "cell_type": "code",
      "execution_count": 9,
      "metadata": {
        "id": "p6WqNc7CLbYY"
      },
      "outputs": [],
      "source": [
        "# @title Define the CNN model\n",
        "\n",
        "# Create a sequential model\n",
        "model = keras.Sequential(\n",
        "    [\n",
        "        keras.Input(shape=(28, 28, 1)),\n",
        "        layers.Conv2D(64, kernel_size=(3, 3), activation=\"relu\"),\n",
        "        layers.MaxPooling2D(pool_size=(2, 2)),\n",
        "        layers.Conv2D(128, kernel_size=(3, 3), activation=\"relu\"),\n",
        "        layers.MaxPooling2D(pool_size=(2, 2)),\n",
        "        layers.Flatten(),\n",
        "        layers.Dropout(0.5),\n",
        "        layers.Dense(10, activation=\"softmax\"),\n",
        "    ]\n",
        ")"
      ]
    },
    {
      "cell_type": "code",
      "execution_count": 10,
      "metadata": {
        "colab": {
          "base_uri": "https://localhost:8080/"
        },
        "id": "hXUCHtYT9D3t",
        "outputId": "2705ae80-531b-40c4-8f62-dbaaeeb5ccc2"
      },
      "outputs": [
        {
          "output_type": "stream",
          "name": "stdout",
          "text": [
            "Epoch 1/60\n",
            "\u001b[1m270/270\u001b[0m \u001b[32m━━━━━━━━━━━━━━━━━━━━\u001b[0m\u001b[37m\u001b[0m \u001b[1m7s\u001b[0m 10ms/step - accuracy: 0.7297 - loss: 0.9396 - val_accuracy: 0.9665 - val_loss: 0.1229\n",
            "Epoch 2/60\n",
            "\u001b[1m270/270\u001b[0m \u001b[32m━━━━━━━━━━━━━━━━━━━━\u001b[0m\u001b[37m\u001b[0m \u001b[1m3s\u001b[0m 10ms/step - accuracy: 0.9498 - loss: 0.1662 - val_accuracy: 0.9783 - val_loss: 0.0820\n",
            "Epoch 3/60\n",
            "\u001b[1m270/270\u001b[0m \u001b[32m━━━━━━━━━━━━━━━━━━━━\u001b[0m\u001b[37m\u001b[0m \u001b[1m2s\u001b[0m 8ms/step - accuracy: 0.9632 - loss: 0.1231 - val_accuracy: 0.9823 - val_loss: 0.0662\n",
            "Epoch 4/60\n",
            "\u001b[1m270/270\u001b[0m \u001b[32m━━━━━━━━━━━━━━━━━━━━\u001b[0m\u001b[37m\u001b[0m \u001b[1m2s\u001b[0m 8ms/step - accuracy: 0.9709 - loss: 0.0970 - val_accuracy: 0.9843 - val_loss: 0.0577\n",
            "Epoch 5/60\n",
            "\u001b[1m270/270\u001b[0m \u001b[32m━━━━━━━━━━━━━━━━━━━━\u001b[0m\u001b[37m\u001b[0m \u001b[1m2s\u001b[0m 7ms/step - accuracy: 0.9755 - loss: 0.0816 - val_accuracy: 0.9860 - val_loss: 0.0508\n",
            "Epoch 6/60\n",
            "\u001b[1m270/270\u001b[0m \u001b[32m━━━━━━━━━━━━━━━━━━━━\u001b[0m\u001b[37m\u001b[0m \u001b[1m3s\u001b[0m 9ms/step - accuracy: 0.9788 - loss: 0.0713 - val_accuracy: 0.9878 - val_loss: 0.0483\n",
            "Epoch 7/60\n",
            "\u001b[1m270/270\u001b[0m \u001b[32m━━━━━━━━━━━━━━━━━━━━\u001b[0m\u001b[37m\u001b[0m \u001b[1m5s\u001b[0m 9ms/step - accuracy: 0.9786 - loss: 0.0691 - val_accuracy: 0.9880 - val_loss: 0.0458\n",
            "Epoch 8/60\n",
            "\u001b[1m270/270\u001b[0m \u001b[32m━━━━━━━━━━━━━━━━━━━━\u001b[0m\u001b[37m\u001b[0m \u001b[1m2s\u001b[0m 8ms/step - accuracy: 0.9812 - loss: 0.0606 - val_accuracy: 0.9873 - val_loss: 0.0429\n",
            "Epoch 9/60\n",
            "\u001b[1m270/270\u001b[0m \u001b[32m━━━━━━━━━━━━━━━━━━━━\u001b[0m\u001b[37m\u001b[0m \u001b[1m3s\u001b[0m 8ms/step - accuracy: 0.9825 - loss: 0.0564 - val_accuracy: 0.9888 - val_loss: 0.0389\n",
            "Epoch 10/60\n",
            "\u001b[1m270/270\u001b[0m \u001b[32m━━━━━━━━━━━━━━━━━━━━\u001b[0m\u001b[37m\u001b[0m \u001b[1m2s\u001b[0m 7ms/step - accuracy: 0.9838 - loss: 0.0530 - val_accuracy: 0.9907 - val_loss: 0.0384\n",
            "Epoch 11/60\n",
            "\u001b[1m270/270\u001b[0m \u001b[32m━━━━━━━━━━━━━━━━━━━━\u001b[0m\u001b[37m\u001b[0m \u001b[1m2s\u001b[0m 8ms/step - accuracy: 0.9838 - loss: 0.0498 - val_accuracy: 0.9907 - val_loss: 0.0362\n",
            "Epoch 12/60\n",
            "\u001b[1m270/270\u001b[0m \u001b[32m━━━━━━━━━━━━━━━━━━━━\u001b[0m\u001b[37m\u001b[0m \u001b[1m2s\u001b[0m 8ms/step - accuracy: 0.9849 - loss: 0.0494 - val_accuracy: 0.9903 - val_loss: 0.0356\n",
            "Epoch 13/60\n",
            "\u001b[1m270/270\u001b[0m \u001b[32m━━━━━━━━━━━━━━━━━━━━\u001b[0m\u001b[37m\u001b[0m \u001b[1m2s\u001b[0m 8ms/step - accuracy: 0.9857 - loss: 0.0447 - val_accuracy: 0.9902 - val_loss: 0.0352\n",
            "Epoch 14/60\n",
            "\u001b[1m270/270\u001b[0m \u001b[32m━━━━━━━━━━━━━━━━━━━━\u001b[0m\u001b[37m\u001b[0m \u001b[1m2s\u001b[0m 7ms/step - accuracy: 0.9860 - loss: 0.0467 - val_accuracy: 0.9902 - val_loss: 0.0351\n",
            "Epoch 15/60\n",
            "\u001b[1m270/270\u001b[0m \u001b[32m━━━━━━━━━━━━━━━━━━━━\u001b[0m\u001b[37m\u001b[0m \u001b[1m2s\u001b[0m 7ms/step - accuracy: 0.9869 - loss: 0.0411 - val_accuracy: 0.9895 - val_loss: 0.0349\n",
            "Epoch 16/60\n",
            "\u001b[1m270/270\u001b[0m \u001b[32m━━━━━━━━━━━━━━━━━━━━\u001b[0m\u001b[37m\u001b[0m \u001b[1m3s\u001b[0m 7ms/step - accuracy: 0.9875 - loss: 0.0381 - val_accuracy: 0.9907 - val_loss: 0.0333\n",
            "Epoch 17/60\n",
            "\u001b[1m270/270\u001b[0m \u001b[32m━━━━━━━━━━━━━━━━━━━━\u001b[0m\u001b[37m\u001b[0m \u001b[1m3s\u001b[0m 7ms/step - accuracy: 0.9877 - loss: 0.0375 - val_accuracy: 0.9912 - val_loss: 0.0325\n",
            "Epoch 18/60\n",
            "\u001b[1m270/270\u001b[0m \u001b[32m━━━━━━━━━━━━━━━━━━━━\u001b[0m\u001b[37m\u001b[0m \u001b[1m3s\u001b[0m 9ms/step - accuracy: 0.9893 - loss: 0.0344 - val_accuracy: 0.9910 - val_loss: 0.0321\n",
            "Epoch 19/60\n",
            "\u001b[1m270/270\u001b[0m \u001b[32m━━━━━━━━━━━━━━━━━━━━\u001b[0m\u001b[37m\u001b[0m \u001b[1m2s\u001b[0m 7ms/step - accuracy: 0.9897 - loss: 0.0348 - val_accuracy: 0.9910 - val_loss: 0.0320\n",
            "Epoch 20/60\n",
            "\u001b[1m270/270\u001b[0m \u001b[32m━━━━━━━━━━━━━━━━━━━━\u001b[0m\u001b[37m\u001b[0m \u001b[1m3s\u001b[0m 8ms/step - accuracy: 0.9882 - loss: 0.0355 - val_accuracy: 0.9912 - val_loss: 0.0317\n",
            "Epoch 21/60\n",
            "\u001b[1m270/270\u001b[0m \u001b[32m━━━━━━━━━━━━━━━━━━━━\u001b[0m\u001b[37m\u001b[0m \u001b[1m3s\u001b[0m 7ms/step - accuracy: 0.9901 - loss: 0.0321 - val_accuracy: 0.9907 - val_loss: 0.0331\n",
            "Epoch 22/60\n",
            "\u001b[1m270/270\u001b[0m \u001b[32m━━━━━━━━━━━━━━━━━━━━\u001b[0m\u001b[37m\u001b[0m \u001b[1m3s\u001b[0m 8ms/step - accuracy: 0.9898 - loss: 0.0319 - val_accuracy: 0.9908 - val_loss: 0.0315\n",
            "Epoch 23/60\n",
            "\u001b[1m270/270\u001b[0m \u001b[32m━━━━━━━━━━━━━━━━━━━━\u001b[0m\u001b[37m\u001b[0m \u001b[1m3s\u001b[0m 9ms/step - accuracy: 0.9895 - loss: 0.0338 - val_accuracy: 0.9915 - val_loss: 0.0317\n",
            "Epoch 24/60\n",
            "\u001b[1m270/270\u001b[0m \u001b[32m━━━━━━━━━━━━━━━━━━━━\u001b[0m\u001b[37m\u001b[0m \u001b[1m2s\u001b[0m 8ms/step - accuracy: 0.9904 - loss: 0.0310 - val_accuracy: 0.9900 - val_loss: 0.0319\n",
            "Epoch 25/60\n",
            "\u001b[1m270/270\u001b[0m \u001b[32m━━━━━━━━━━━━━━━━━━━━\u001b[0m\u001b[37m\u001b[0m \u001b[1m2s\u001b[0m 8ms/step - accuracy: 0.9899 - loss: 0.0306 - val_accuracy: 0.9913 - val_loss: 0.0305\n",
            "Epoch 26/60\n",
            "\u001b[1m270/270\u001b[0m \u001b[32m━━━━━━━━━━━━━━━━━━━━\u001b[0m\u001b[37m\u001b[0m \u001b[1m2s\u001b[0m 8ms/step - accuracy: 0.9911 - loss: 0.0265 - val_accuracy: 0.9915 - val_loss: 0.0302\n",
            "Epoch 27/60\n",
            "\u001b[1m270/270\u001b[0m \u001b[32m━━━━━━━━━━━━━━━━━━━━\u001b[0m\u001b[37m\u001b[0m \u001b[1m3s\u001b[0m 7ms/step - accuracy: 0.9929 - loss: 0.0260 - val_accuracy: 0.9920 - val_loss: 0.0302\n",
            "Epoch 28/60\n",
            "\u001b[1m270/270\u001b[0m \u001b[32m━━━━━━━━━━━━━━━━━━━━\u001b[0m\u001b[37m\u001b[0m \u001b[1m3s\u001b[0m 8ms/step - accuracy: 0.9908 - loss: 0.0285 - val_accuracy: 0.9905 - val_loss: 0.0317\n",
            "Epoch 29/60\n",
            "\u001b[1m270/270\u001b[0m \u001b[32m━━━━━━━━━━━━━━━━━━━━\u001b[0m\u001b[37m\u001b[0m \u001b[1m2s\u001b[0m 8ms/step - accuracy: 0.9913 - loss: 0.0269 - val_accuracy: 0.9920 - val_loss: 0.0302\n",
            "Epoch 30/60\n",
            "\u001b[1m270/270\u001b[0m \u001b[32m━━━━━━━━━━━━━━━━━━━━\u001b[0m\u001b[37m\u001b[0m \u001b[1m2s\u001b[0m 8ms/step - accuracy: 0.9915 - loss: 0.0272 - val_accuracy: 0.9932 - val_loss: 0.0281\n",
            "Epoch 31/60\n",
            "\u001b[1m270/270\u001b[0m \u001b[32m━━━━━━━━━━━━━━━━━━━━\u001b[0m\u001b[37m\u001b[0m \u001b[1m2s\u001b[0m 8ms/step - accuracy: 0.9921 - loss: 0.0255 - val_accuracy: 0.9918 - val_loss: 0.0301\n",
            "Epoch 32/60\n",
            "\u001b[1m270/270\u001b[0m \u001b[32m━━━━━━━━━━━━━━━━━━━━\u001b[0m\u001b[37m\u001b[0m \u001b[1m2s\u001b[0m 8ms/step - accuracy: 0.9916 - loss: 0.0255 - val_accuracy: 0.9918 - val_loss: 0.0305\n",
            "Epoch 33/60\n",
            "\u001b[1m270/270\u001b[0m \u001b[32m━━━━━━━━━━━━━━━━━━━━\u001b[0m\u001b[37m\u001b[0m \u001b[1m2s\u001b[0m 8ms/step - accuracy: 0.9914 - loss: 0.0252 - val_accuracy: 0.9925 - val_loss: 0.0277\n",
            "Epoch 34/60\n",
            "\u001b[1m270/270\u001b[0m \u001b[32m━━━━━━━━━━━━━━━━━━━━\u001b[0m\u001b[37m\u001b[0m \u001b[1m3s\u001b[0m 9ms/step - accuracy: 0.9923 - loss: 0.0238 - val_accuracy: 0.9920 - val_loss: 0.0289\n",
            "Epoch 35/60\n",
            "\u001b[1m270/270\u001b[0m \u001b[32m━━━━━━━━━━━━━━━━━━━━\u001b[0m\u001b[37m\u001b[0m \u001b[1m2s\u001b[0m 8ms/step - accuracy: 0.9919 - loss: 0.0243 - val_accuracy: 0.9920 - val_loss: 0.0284\n",
            "Epoch 36/60\n",
            "\u001b[1m270/270\u001b[0m \u001b[32m━━━━━━━━━━━━━━━━━━━━\u001b[0m\u001b[37m\u001b[0m \u001b[1m3s\u001b[0m 8ms/step - accuracy: 0.9926 - loss: 0.0237 - val_accuracy: 0.9923 - val_loss: 0.0294\n",
            "Epoch 37/60\n",
            "\u001b[1m270/270\u001b[0m \u001b[32m━━━━━━━━━━━━━━━━━━━━\u001b[0m\u001b[37m\u001b[0m \u001b[1m3s\u001b[0m 8ms/step - accuracy: 0.9925 - loss: 0.0235 - val_accuracy: 0.9927 - val_loss: 0.0283\n",
            "Epoch 38/60\n",
            "\u001b[1m270/270\u001b[0m \u001b[32m━━━━━━━━━━━━━━━━━━━━\u001b[0m\u001b[37m\u001b[0m \u001b[1m2s\u001b[0m 8ms/step - accuracy: 0.9933 - loss: 0.0216 - val_accuracy: 0.9922 - val_loss: 0.0287\n",
            "Epoch 39/60\n",
            "\u001b[1m270/270\u001b[0m \u001b[32m━━━━━━━━━━━━━━━━━━━━\u001b[0m\u001b[37m\u001b[0m \u001b[1m2s\u001b[0m 8ms/step - accuracy: 0.9934 - loss: 0.0211 - val_accuracy: 0.9928 - val_loss: 0.0272\n",
            "Epoch 40/60\n",
            "\u001b[1m270/270\u001b[0m \u001b[32m━━━━━━━━━━━━━━━━━━━━\u001b[0m\u001b[37m\u001b[0m \u001b[1m2s\u001b[0m 8ms/step - accuracy: 0.9940 - loss: 0.0198 - val_accuracy: 0.9933 - val_loss: 0.0277\n",
            "Epoch 41/60\n",
            "\u001b[1m270/270\u001b[0m \u001b[32m━━━━━━━━━━━━━━━━━━━━\u001b[0m\u001b[37m\u001b[0m \u001b[1m2s\u001b[0m 8ms/step - accuracy: 0.9939 - loss: 0.0198 - val_accuracy: 0.9920 - val_loss: 0.0283\n",
            "Epoch 42/60\n",
            "\u001b[1m270/270\u001b[0m \u001b[32m━━━━━━━━━━━━━━━━━━━━\u001b[0m\u001b[37m\u001b[0m \u001b[1m2s\u001b[0m 8ms/step - accuracy: 0.9944 - loss: 0.0187 - val_accuracy: 0.9920 - val_loss: 0.0282\n",
            "Epoch 43/60\n",
            "\u001b[1m270/270\u001b[0m \u001b[32m━━━━━━━━━━━━━━━━━━━━\u001b[0m\u001b[37m\u001b[0m \u001b[1m2s\u001b[0m 8ms/step - accuracy: 0.9944 - loss: 0.0174 - val_accuracy: 0.9923 - val_loss: 0.0296\n",
            "Epoch 44/60\n",
            "\u001b[1m270/270\u001b[0m \u001b[32m━━━━━━━━━━━━━━━━━━━━\u001b[0m\u001b[37m\u001b[0m \u001b[1m2s\u001b[0m 8ms/step - accuracy: 0.9938 - loss: 0.0186 - val_accuracy: 0.9927 - val_loss: 0.0281\n",
            "Epoch 45/60\n",
            "\u001b[1m270/270\u001b[0m \u001b[32m━━━━━━━━━━━━━━━━━━━━\u001b[0m\u001b[37m\u001b[0m \u001b[1m3s\u001b[0m 8ms/step - accuracy: 0.9938 - loss: 0.0185 - val_accuracy: 0.9918 - val_loss: 0.0290\n",
            "Epoch 46/60\n",
            "\u001b[1m270/270\u001b[0m \u001b[32m━━━━━━━━━━━━━━━━━━━━\u001b[0m\u001b[37m\u001b[0m \u001b[1m2s\u001b[0m 8ms/step - accuracy: 0.9943 - loss: 0.0173 - val_accuracy: 0.9923 - val_loss: 0.0273\n",
            "Epoch 47/60\n",
            "\u001b[1m270/270\u001b[0m \u001b[32m━━━━━━━━━━━━━━━━━━━━\u001b[0m\u001b[37m\u001b[0m \u001b[1m3s\u001b[0m 8ms/step - accuracy: 0.9942 - loss: 0.0185 - val_accuracy: 0.9925 - val_loss: 0.0280\n",
            "Epoch 48/60\n",
            "\u001b[1m270/270\u001b[0m \u001b[32m━━━━━━━━━━━━━━━━━━━━\u001b[0m\u001b[37m\u001b[0m \u001b[1m3s\u001b[0m 8ms/step - accuracy: 0.9945 - loss: 0.0163 - val_accuracy: 0.9923 - val_loss: 0.0279\n",
            "Epoch 49/60\n",
            "\u001b[1m270/270\u001b[0m \u001b[32m━━━━━━━━━━━━━━━━━━━━\u001b[0m\u001b[37m\u001b[0m \u001b[1m3s\u001b[0m 8ms/step - accuracy: 0.9937 - loss: 0.0180 - val_accuracy: 0.9922 - val_loss: 0.0282\n",
            "Epoch 50/60\n",
            "\u001b[1m270/270\u001b[0m \u001b[32m━━━━━━━━━━━━━━━━━━━━\u001b[0m\u001b[37m\u001b[0m \u001b[1m2s\u001b[0m 9ms/step - accuracy: 0.9943 - loss: 0.0184 - val_accuracy: 0.9928 - val_loss: 0.0277\n",
            "Epoch 51/60\n",
            "\u001b[1m270/270\u001b[0m \u001b[32m━━━━━━━━━━━━━━━━━━━━\u001b[0m\u001b[37m\u001b[0m \u001b[1m2s\u001b[0m 8ms/step - accuracy: 0.9945 - loss: 0.0170 - val_accuracy: 0.9930 - val_loss: 0.0278\n",
            "Epoch 52/60\n",
            "\u001b[1m270/270\u001b[0m \u001b[32m━━━━━━━━━━━━━━━━━━━━\u001b[0m\u001b[37m\u001b[0m \u001b[1m3s\u001b[0m 8ms/step - accuracy: 0.9947 - loss: 0.0164 - val_accuracy: 0.9907 - val_loss: 0.0298\n",
            "Epoch 53/60\n",
            "\u001b[1m270/270\u001b[0m \u001b[32m━━━━━━━━━━━━━━━━━━━━\u001b[0m\u001b[37m\u001b[0m \u001b[1m2s\u001b[0m 8ms/step - accuracy: 0.9948 - loss: 0.0164 - val_accuracy: 0.9920 - val_loss: 0.0286\n",
            "Epoch 54/60\n",
            "\u001b[1m270/270\u001b[0m \u001b[32m━━━━━━━━━━━━━━━━━━━━\u001b[0m\u001b[37m\u001b[0m \u001b[1m3s\u001b[0m 8ms/step - accuracy: 0.9940 - loss: 0.0172 - val_accuracy: 0.9927 - val_loss: 0.0281\n",
            "Epoch 55/60\n",
            "\u001b[1m270/270\u001b[0m \u001b[32m━━━━━━━━━━━━━━━━━━━━\u001b[0m\u001b[37m\u001b[0m \u001b[1m2s\u001b[0m 9ms/step - accuracy: 0.9953 - loss: 0.0149 - val_accuracy: 0.9923 - val_loss: 0.0281\n",
            "Epoch 56/60\n",
            "\u001b[1m270/270\u001b[0m \u001b[32m━━━━━━━━━━━━━━━━━━━━\u001b[0m\u001b[37m\u001b[0m \u001b[1m2s\u001b[0m 8ms/step - accuracy: 0.9947 - loss: 0.0151 - val_accuracy: 0.9923 - val_loss: 0.0273\n",
            "Epoch 57/60\n",
            "\u001b[1m270/270\u001b[0m \u001b[32m━━━━━━━━━━━━━━━━━━━━\u001b[0m\u001b[37m\u001b[0m \u001b[1m2s\u001b[0m 8ms/step - accuracy: 0.9941 - loss: 0.0170 - val_accuracy: 0.9928 - val_loss: 0.0278\n",
            "Epoch 58/60\n",
            "\u001b[1m270/270\u001b[0m \u001b[32m━━━━━━━━━━━━━━━━━━━━\u001b[0m\u001b[37m\u001b[0m \u001b[1m2s\u001b[0m 8ms/step - accuracy: 0.9952 - loss: 0.0143 - val_accuracy: 0.9927 - val_loss: 0.0283\n",
            "Epoch 59/60\n",
            "\u001b[1m270/270\u001b[0m \u001b[32m━━━━━━━━━━━━━━━━━━━━\u001b[0m\u001b[37m\u001b[0m \u001b[1m2s\u001b[0m 8ms/step - accuracy: 0.9954 - loss: 0.0139 - val_accuracy: 0.9927 - val_loss: 0.0287\n",
            "Epoch 60/60\n",
            "\u001b[1m270/270\u001b[0m \u001b[32m━━━━━━━━━━━━━━━━━━━━\u001b[0m\u001b[37m\u001b[0m \u001b[1m3s\u001b[0m 8ms/step - accuracy: 0.9952 - loss: 0.0162 - val_accuracy: 0.9930 - val_loss: 0.0287\n"
          ]
        }
      ],
      "source": [
        "# @title Train the model\n",
        "\n",
        "# Set hyperparameters\n",
        "batch_size = 200\n",
        "epochs = 60\n",
        "\n",
        "# Compile the model\n",
        "model.compile(loss=\"categorical_crossentropy\", optimizer=\"adamax\", metrics=[\"accuracy\"])\n",
        "\n",
        "# Train the model and store the training history\n",
        "result = model.fit(x_train, y_train, batch_size=batch_size, epochs=epochs, validation_split=0.1)"
      ]
    },
    {
      "cell_type": "code",
      "execution_count": 11,
      "metadata": {
        "id": "UvlyI2E6BHHQ",
        "colab": {
          "base_uri": "https://localhost:8080/",
          "height": 472
        },
        "outputId": "f4bf03b0-32e0-4709-827a-6c4b3fd705b4"
      },
      "outputs": [
        {
          "output_type": "display_data",
          "data": {
            "text/plain": [
              "<Figure size 640x480 with 1 Axes>"
            ],
            "image/png": "[encoded data removed]"
          },
          "metadata": {}
        }
      ],
      "source": [
        "# @title Plot the training accuracy and validation accuracy\n",
        "\n",
        "# Plot the training and validation accuracy curves\n",
        "plt.plot(result.history['accuracy'])\n",
        "plt.plot(result.history['val_accuracy'])\n",
        "plt.title('Model accuracy')\n",
        "plt.ylabel('accuracy')\n",
        "plt.xlabel('epoch')\n",
        "plt.legend(['acc', 'val'], loc='upper left')\n",
        "plt.show()"
      ]
    },
    {
      "cell_type": "code",
      "source": [
        "# @title Paint MNIST image\n",
        "\n",
        "def paint_mnist(image):\n",
        "    fig, axes = plt.subplots(2, 5, figsize=(10, 4))\n",
        "    for i, ax in enumerate(axes.flat):\n",
        "        ax.imshow(image[i], cmap='gray')\n",
        "        ax.axis('off')\n",
        "    plt.tight_layout()\n",
        "    plt.show()"
      ],
      "metadata": {
        "id": "K3AhaGkFPEAo"
      },
      "execution_count": 17,
      "outputs": []
    },
    {
      "cell_type": "code",
      "execution_count": 25,
      "metadata": {
        "colab": {
          "base_uri": "https://localhost:8080/",
          "height": 424
        },
        "id": "NP6AkY8CLbYa",
        "outputId": "4027ce39-9859-4a7a-c6d1-0f6a4e7e752f"
      },
      "outputs": [
        {
          "output_type": "stream",
          "name": "stdout",
          "text": [
            "Shape: (10, 28, 28, 1)\n"
          ]
        },
        {
          "output_type": "display_data",
          "data": {
            "text/plain": [
              "<Figure size 1000x400 with 10 Axes>"
            ],
            "image/png": "[encoded data removed]"
          },
          "metadata": {}
        }
      ],
      "source": [
        "# @title Paint 10 randoms numbers of MNIST\n",
        "\n",
        "import random\n",
        "\n",
        "# Assuming x_train contains the MNIST images\n",
        "random_indices = random.sample(range(len(x_train)), 10)\n",
        "random_images = x_train[random_indices]\n",
        "\n",
        "print(f\"Shape: {random_images.shape}\")\n",
        "\n",
        "# Plot the images\n",
        "paint_mnist(random_images)\n"
      ]
    }
  ],
  "metadata": {
    "colab": {
      "provenance": [],
      "gpuType": "T4",
      "include_colab_link": true
    },
    "kernelspec": {
      "display_name": "Python 3",
      "name": "python3"
    },
    "language_info": {
      "codemirror_mode": {
        "name": "ipython",
        "version": 3
      },
      "file_extension": ".py",
      "mimetype": "text/x-python",
      "name": "python",
      "nbconvert_exporter": "python",
      "pygments_lexer": "ipython3",
      "version": "3.12.3"
    },
    "accelerator": "GPU"
  },
  "nbformat": 4,
  "nbformat_minor": 0
}