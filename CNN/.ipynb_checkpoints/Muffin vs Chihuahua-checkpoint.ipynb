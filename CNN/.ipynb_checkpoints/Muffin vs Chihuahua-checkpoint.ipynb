{
 "cells": [
  {
   "cell_type": "markdown",
   "id": "98c193ed-5c8f-40c2-ae71-50f9bb6710d4",
   "metadata": {},
   "source": [
    "# Muffin vs Chihuahua"
   ]
  },
  {
   "cell_type": "markdown",
   "id": "6df67ebe-8d6f-4445-bccc-d188970db645",
   "metadata": {},
   "source": [
    "**Dataset**: https://www.kaggle.com/datasets/samuelcortinhas/muffin-vs-chihuahua-image-classification/data"
   ]
  },
  {
   "cell_type": "markdown",
   "id": "400b05f9-4dbd-4bee-8388-2169d8534c9b",
   "metadata": {},
   "source": [
    "## Import libs"
   ]
  },
  {
   "cell_type": "code",
   "execution_count": 1,
   "id": "e855ec84-5565-4794-acad-f50476d34a26",
   "metadata": {},
   "outputs": [
    {
     "name": "stderr",
     "output_type": "stream",
     "text": [
      "2025-07-09 17:20:45.801184: I tensorflow/core/util/port.cc:113] oneDNN custom operations are on. You may see slightly different numerical results due to floating-point round-off errors from different computation orders. To turn them off, set the environment variable `TF_ENABLE_ONEDNN_OPTS=0`.\n",
      "2025-07-09 17:20:45.827228: E external/local_xla/xla/stream_executor/cuda/cuda_dnn.cc:9261] Unable to register cuDNN factory: Attempting to register factory for plugin cuDNN when one has already been registered\n",
      "2025-07-09 17:20:45.827256: E external/local_xla/xla/stream_executor/cuda/cuda_fft.cc:607] Unable to register cuFFT factory: Attempting to register factory for plugin cuFFT when one has already been registered\n",
      "2025-07-09 17:20:45.828020: E external/local_xla/xla/stream_executor/cuda/cuda_blas.cc:1515] Unable to register cuBLAS factory: Attempting to register factory for plugin cuBLAS when one has already been registered\n",
      "2025-07-09 17:20:45.833147: I tensorflow/core/platform/cpu_feature_guard.cc:182] This TensorFlow binary is optimized to use available CPU instructions in performance-critical operations.\n",
      "To enable the following instructions: AVX2 AVX_VNNI FMA, in other operations, rebuild TensorFlow with the appropriate compiler flags.\n",
      "2025-07-09 17:20:46.236983: W tensorflow/compiler/tf2tensorrt/utils/py_utils.cc:38] TF-TRT Warning: Could not find TensorRT\n"
     ]
    }
   ],
   "source": [
    "import os\n",
    "import tensorflow as tf\n",
    "import numpy as np\n",
    "from PIL import Image\n",
    "import matplotlib.pyplot as plt\n",
    "\n",
    "from tensorflow.keras.utils import image_dataset_from_directory\n",
    "from tensorflow.keras.preprocessing.image import ImageDataGenerator\n",
    "from tensorflow.keras.models import Sequential\n",
    "from tensorflow.keras.layers import Dense, Activation, Dropout, Flatten, Conv2D, MaxPooling2D, BatchNormalization\n",
    "from tensorflow.keras.preprocessing import image\n",
    "from tensorflow.keras.callbacks import EarlyStopping, ReduceLROnPlateau"
   ]
  },
  {
   "cell_type": "markdown",
   "id": "efbf1a1c-fd40-4b8b-ad97-a47024e57272",
   "metadata": {},
   "source": [
    "## Data Augmentation and Loading"
   ]
  },
  {
   "cell_type": "markdown",
   "id": "f2897236-0325-48cd-9086-d10c16e3d673",
   "metadata": {},
   "source": [
    "### Data Augmentation function"
   ]
  },
  {
   "cell_type": "code",
   "execution_count": 2,
   "id": "5c475735-64af-4098-8e08-393ee4d3675e",
   "metadata": {},
   "outputs": [],
   "source": [
    "train_datagen = ImageDataGenerator(\n",
    "    rescale=1./255,\n",
    "    shear_range=0.2,\n",
    "    zoom_range=0.2,\n",
    "    horizontal_flip=True,\n",
    "    validation_split=0.2\n",
    ")"
   ]
  },
  {
   "cell_type": "markdown",
   "id": "ff30e4fb-c844-4678-8a47-1c5470542bc6",
   "metadata": {},
   "source": [
    "### Load data"
   ]
  },
  {
   "cell_type": "code",
   "execution_count": 3,
   "id": "d77a891a-ee94-4e0e-915b-a086157e14f3",
   "metadata": {},
   "outputs": [
    {
     "name": "stdout",
     "output_type": "stream",
     "text": [
      "Found 3788 images belonging to 2 classes.\n",
      "Found 945 images belonging to 2 classes.\n",
      "Found 1184 images belonging to 2 classes.\n"
     ]
    }
   ],
   "source": [
    "# Load validation data with augmentation (no extra augmentation for validation)\n",
    "train_generator = train_datagen.flow_from_directory(\n",
    "    '../../datasets/muffin-vs-chihuahua/train',\n",
    "    target_size=(200, 200),\n",
    "    batch_size=32,\n",
    "    class_mode='sparse',\n",
    "    subset='training'\n",
    ")\n",
    "\n",
    "# Load validation data with augmentation (no extra augmentation for validation)\n",
    "validation_generator = train_datagen.flow_from_directory(\n",
    "    '../../datasets/muffin-vs-chihuahua/train',\n",
    "    target_size=(200, 200),\n",
    "    batch_size=32,\n",
    "    class_mode='sparse',\n",
    "    subset='validation'\n",
    ")\n",
    "\n",
    "# Load test data (rescaling only)\n",
    "test_datagen = ImageDataGenerator(rescale=1./255)\n",
    "test_generator = test_datagen.flow_from_directory(\n",
    "    '../../datasets/muffin-vs-chihuahua/test',\n",
    "    target_size=(200, 200),\n",
    "    batch_size=32,\n",
    "    class_mode='sparse'\n",
    ")"
   ]
  },
  {
   "cell_type": "markdown",
   "id": "776ee30d-ce80-4268-a82a-6f604bb892b4",
   "metadata": {},
   "source": [
    "## Model Architecture"
   ]
  },
  {
   "cell_type": "code",
   "execution_count": 4,
   "id": "0bd5a915-87ef-4860-930f-5f61b8edfe96",
   "metadata": {},
   "outputs": [
    {
     "name": "stdout",
     "output_type": "stream",
     "text": [
      "Model: \"sequential\"\n",
      "_________________________________________________________________\n",
      " Layer (type)                Output Shape              Param #   \n",
      "=================================================================\n",
      " conv2d (Conv2D)             (None, 200, 200, 32)      896       \n",
      "                                                                 \n",
      " batch_normalization (Batch  (None, 200, 200, 32)      128       \n",
      " Normalization)                                                  \n",
      "                                                                 \n",
      " max_pooling2d (MaxPooling2  (None, 100, 100, 32)      0         \n",
      " D)                                                              \n",
      "                                                                 \n",
      " dropout (Dropout)           (None, 100, 100, 32)      0         \n",
      "                                                                 \n",
      " conv2d_1 (Conv2D)           (None, 100, 100, 64)      18496     \n",
      "                                                                 \n",
      " batch_normalization_1 (Bat  (None, 100, 100, 64)      256       \n",
      " chNormalization)                                                \n",
      "                                                                 \n",
      " max_pooling2d_1 (MaxPoolin  (None, 50, 50, 64)        0         \n",
      " g2D)                                                            \n",
      "                                                                 \n",
      " dropout_1 (Dropout)         (None, 50, 50, 64)        0         \n",
      "                                                                 \n",
      " conv2d_2 (Conv2D)           (None, 50, 50, 128)       73856     \n",
      "                                                                 \n",
      " batch_normalization_2 (Bat  (None, 50, 50, 128)       512       \n",
      " chNormalization)                                                \n",
      "                                                                 \n",
      " max_pooling2d_2 (MaxPoolin  (None, 25, 25, 128)       0         \n",
      " g2D)                                                            \n",
      "                                                                 \n",
      " dropout_2 (Dropout)         (None, 25, 25, 128)       0         \n",
      "                                                                 \n",
      " flatten (Flatten)           (None, 80000)             0         \n",
      "                                                                 \n",
      " dense (Dense)               (None, 512)               40960512  \n",
      "                                                                 \n",
      " dropout_3 (Dropout)         (None, 512)               0         \n",
      "                                                                 \n",
      " dense_1 (Dense)             (None, 2)                 1026      \n",
      "                                                                 \n",
      "=================================================================\n",
      "Total params: 41055682 (156.61 MB)\n",
      "Trainable params: 41055234 (156.61 MB)\n",
      "Non-trainable params: 448 (1.75 KB)\n",
      "_________________________________________________________________\n"
     ]
    },
    {
     "name": "stderr",
     "output_type": "stream",
     "text": [
      "2025-07-09 17:20:49.640437: I external/local_xla/xla/stream_executor/cuda/cuda_executor.cc:887] could not open file to read NUMA node: /sys/bus/pci/devices/0000:02:00.0/numa_node\n",
      "Your kernel may have been built without NUMA support.\n",
      "2025-07-09 17:20:49.677838: I external/local_xla/xla/stream_executor/cuda/cuda_executor.cc:887] could not open file to read NUMA node: /sys/bus/pci/devices/0000:02:00.0/numa_node\n",
      "Your kernel may have been built without NUMA support.\n",
      "2025-07-09 17:20:49.677871: I external/local_xla/xla/stream_executor/cuda/cuda_executor.cc:887] could not open file to read NUMA node: /sys/bus/pci/devices/0000:02:00.0/numa_node\n",
      "Your kernel may have been built without NUMA support.\n",
      "2025-07-09 17:20:49.677875: W tensorflow/core/common_runtime/gpu/gpu_device.cc:2348] TensorFlow was not built with CUDA kernel binaries compatible with compute capability 12.0. CUDA kernels will be jit-compiled from PTX, which could take 30 minutes or longer.\n",
      "2025-07-09 17:20:49.678836: I external/local_xla/xla/stream_executor/cuda/cuda_executor.cc:887] could not open file to read NUMA node: /sys/bus/pci/devices/0000:02:00.0/numa_node\n",
      "Your kernel may have been built without NUMA support.\n",
      "2025-07-09 17:20:49.678861: I external/local_xla/xla/stream_executor/cuda/cuda_executor.cc:887] could not open file to read NUMA node: /sys/bus/pci/devices/0000:02:00.0/numa_node\n",
      "Your kernel may have been built without NUMA support.\n",
      "2025-07-09 17:20:49.678873: I external/local_xla/xla/stream_executor/cuda/cuda_executor.cc:887] could not open file to read NUMA node: /sys/bus/pci/devices/0000:02:00.0/numa_node\n",
      "Your kernel may have been built without NUMA support.\n",
      "2025-07-09 17:20:49.678876: W tensorflow/core/common_runtime/gpu/gpu_device.cc:2348] TensorFlow was not built with CUDA kernel binaries compatible with compute capability 12.0. CUDA kernels will be jit-compiled from PTX, which could take 30 minutes or longer.\n",
      "2025-07-09 17:20:49.812302: I external/local_xla/xla/stream_executor/cuda/cuda_executor.cc:887] could not open file to read NUMA node: /sys/bus/pci/devices/0000:02:00.0/numa_node\n",
      "Your kernel may have been built without NUMA support.\n",
      "2025-07-09 17:20:49.812338: I external/local_xla/xla/stream_executor/cuda/cuda_executor.cc:887] could not open file to read NUMA node: /sys/bus/pci/devices/0000:02:00.0/numa_node\n",
      "Your kernel may have been built without NUMA support.\n",
      "2025-07-09 17:20:49.812343: I tensorflow/core/common_runtime/gpu/gpu_device.cc:2022] Could not identify NUMA node of platform GPU id 0, defaulting to 0.  Your kernel may not have been built with NUMA support.\n",
      "2025-07-09 17:20:49.812362: I external/local_xla/xla/stream_executor/cuda/cuda_executor.cc:887] could not open file to read NUMA node: /sys/bus/pci/devices/0000:02:00.0/numa_node\n",
      "Your kernel may have been built without NUMA support.\n",
      "2025-07-09 17:20:49.812381: I tensorflow/core/common_runtime/gpu/gpu_device.cc:1929] Created device /job:localhost/replica:0/task:0/device:GPU:0 with 12702 MB memory:  -> device: 0, name: NVIDIA GeForce RTX 5070 Ti, pci bus id: 0000:02:00.0, compute capability: 12.0\n"
     ]
    }
   ],
   "source": [
    "model = Sequential([\n",
    "    Conv2D(32, (3, 3), padding='same', activation=tf.nn.relu, input_shape=(200, 200, 3)),\n",
    "    BatchNormalization(),\n",
    "    MaxPooling2D((2, 2), strides=2),\n",
    "    Dropout(0.2),\n",
    "    Conv2D(64, (3, 3), padding='same', activation=tf.nn.relu),\n",
    "    BatchNormalization(),\n",
    "    MaxPooling2D((2, 2), strides=2),\n",
    "    Dropout(0.2),\n",
    "    Conv2D(128, (3, 3), padding='same', activation=tf.nn.relu),\n",
    "    BatchNormalization(),\n",
    "    MaxPooling2D((2, 2), strides=2),\n",
    "    Dropout(0.2),\n",
    "    Flatten(),\n",
    "    Dense(512, activation=tf.nn.relu),\n",
    "    Dropout(0.5),\n",
    "    Dense(2, activation='softmax')  # Adjusted to 2 output classes\n",
    "])\n",
    "\n",
    "model.summary()"
   ]
  },
  {
   "cell_type": "markdown",
   "id": "70a9af63-5b2a-4d0e-8bd1-0866f225e6fd",
   "metadata": {},
   "source": [
    "## Model Compilation and Training"
   ]
  },
  {
   "cell_type": "code",
   "execution_count": 5,
   "id": "05d3b663-9f00-4ee0-8ae9-32e8c3385ab9",
   "metadata": {},
   "outputs": [
    {
     "name": "stdout",
     "output_type": "stream",
     "text": [
      "Epoch 1/50\n"
     ]
    },
    {
     "name": "stderr",
     "output_type": "stream",
     "text": [
      "2025-07-09 17:20:51.632639: E tensorflow/core/grappler/optimizers/meta_optimizer.cc:961] layout failed: INVALID_ARGUMENT: Size of values 0 does not match size of permutation 4 @ fanin shape insequential/dropout/dropout/SelectV2-2-TransposeNHWCToNCHW-LayoutOptimizer\n",
      "2025-07-09 17:20:52.912599: I external/local_xla/xla/stream_executor/cuda/cuda_dnn.cc:454] Loaded cuDNN version 8904\n",
      "2025-07-09 17:20:52.961257: W external/local_xla/xla/stream_executor/gpu/asm_compiler.cc:225] Falling back to the CUDA driver for PTX compilation; ptxas does not support CC 12.0\n",
      "2025-07-09 17:20:52.961275: W external/local_xla/xla/stream_executor/gpu/asm_compiler.cc:228] Used ptxas at ptxas\n",
      "2025-07-09 17:20:52.961313: W external/local_xla/xla/stream_executor/gpu/redzone_allocator.cc:322] UNIMPLEMENTED: ptxas ptxas too old. Falling back to the driver to compile.\n",
      "Relying on driver to perform ptx compilation. \n",
      "Modify $PATH to customize ptxas location.\n",
      "This message will be only logged once.\n",
      "2025-07-09 17:20:53.213737: W tensorflow/compiler/mlir/tools/kernel_gen/transforms/gpu_kernel_to_blob_pass.cc:191] Failed to compile generated PTX with ptxas. Falling back to compilation by driver.\n",
      "2025-07-09 17:20:53.214083: W tensorflow/compiler/mlir/tools/kernel_gen/transforms/gpu_kernel_to_blob_pass.cc:191] Failed to compile generated PTX with ptxas. Falling back to compilation by driver.\n",
      "2025-07-09 17:20:53.214328: W tensorflow/compiler/mlir/tools/kernel_gen/transforms/gpu_kernel_to_blob_pass.cc:191] Failed to compile generated PTX with ptxas. Falling back to compilation by driver.\n",
      "2025-07-09 17:20:53.214362: W tensorflow/compiler/mlir/tools/kernel_gen/transforms/gpu_kernel_to_blob_pass.cc:191] Failed to compile generated PTX with ptxas. Falling back to compilation by driver.\n",
      "2025-07-09 17:20:53.214459: W tensorflow/compiler/mlir/tools/kernel_gen/transforms/gpu_kernel_to_blob_pass.cc:191] Failed to compile generated PTX with ptxas. Falling back to compilation by driver.\n",
      "2025-07-09 17:20:53.214878: W tensorflow/compiler/mlir/tools/kernel_gen/transforms/gpu_kernel_to_blob_pass.cc:191] Failed to compile generated PTX with ptxas. Falling back to compilation by driver.\n",
      "2025-07-09 17:20:53.214915: W tensorflow/compiler/mlir/tools/kernel_gen/transforms/gpu_kernel_to_blob_pass.cc:191] Failed to compile generated PTX with ptxas. Falling back to compilation by driver.\n",
      "2025-07-09 17:20:53.214927: W tensorflow/compiler/mlir/tools/kernel_gen/transforms/gpu_kernel_to_blob_pass.cc:191] Failed to compile generated PTX with ptxas. Falling back to compilation by driver.\n",
      "2025-07-09 17:20:53.214980: W tensorflow/compiler/mlir/tools/kernel_gen/transforms/gpu_kernel_to_blob_pass.cc:191] Failed to compile generated PTX with ptxas. Falling back to compilation by driver.\n",
      "2025-07-09 17:20:53.479919: W tensorflow/compiler/mlir/tools/kernel_gen/transforms/gpu_kernel_to_blob_pass.cc:191] Failed to compile generated PTX with ptxas. Falling back to compilation by driver.\n",
      "2025-07-09 17:20:54.876261: I external/local_xla/xla/service/service.cc:168] XLA service 0x72a120140550 initialized for platform CUDA (this does not guarantee that XLA will be used). Devices:\n",
      "2025-07-09 17:20:54.876284: I external/local_xla/xla/service/service.cc:176]   StreamExecutor device (0): NVIDIA GeForce RTX 5070 Ti, Compute Capability 12.0\n",
      "2025-07-09 17:20:54.887626: I tensorflow/compiler/mlir/tensorflow/utils/dump_mlir_util.cc:269] disabling MLIR crash reproducer, set env var `MLIR_CRASH_REPRODUCER_DIRECTORY` to enable.\n",
      "2025-07-09 17:20:54.922353: W external/local_xla/xla/service/gpu/nvptx_compiler.cc:408] Couldn't read CUDA driver version.\n",
      "WARNING: All log messages before absl::InitializeLog() is called are written to STDERR\n",
      "I0000 00:00:1752074454.932203    8188 device_compiler.h:186] Compiled cluster using XLA!  This line is logged at most once for the lifetime of the process.\n"
     ]
    },
    {
     "name": "stdout",
     "output_type": "stream",
     "text": [
      "118/118 [==============================] - 33s 244ms/step - loss: 11.9000 - accuracy: 0.7375 - val_loss: 8.5751 - val_accuracy: 0.5302 - lr: 0.0010\n",
      "Epoch 2/50\n",
      "118/118 [==============================] - 31s 260ms/step - loss: 0.5646 - accuracy: 0.7955 - val_loss: 8.7661 - val_accuracy: 0.5345 - lr: 0.0010\n",
      "Epoch 3/50\n",
      "118/118 [==============================] - 30s 257ms/step - loss: 0.4154 - accuracy: 0.8328 - val_loss: 2.6333 - val_accuracy: 0.6218 - lr: 0.0010\n",
      "Epoch 4/50\n",
      "118/118 [==============================] - 31s 265ms/step - loss: 0.3710 - accuracy: 0.8490 - val_loss: 2.0174 - val_accuracy: 0.6476 - lr: 0.0010\n",
      "Epoch 5/50\n",
      "118/118 [==============================] - 29s 250ms/step - loss: 0.3814 - accuracy: 0.8533 - val_loss: 0.9677 - val_accuracy: 0.7748 - lr: 0.0010\n",
      "Epoch 6/50\n",
      "118/118 [==============================] - 30s 258ms/step - loss: 0.3394 - accuracy: 0.8725 - val_loss: 0.3443 - val_accuracy: 0.8761 - lr: 0.0010\n",
      "Epoch 7/50\n",
      "118/118 [==============================] - 30s 257ms/step - loss: 0.3171 - accuracy: 0.8709 - val_loss: 0.9416 - val_accuracy: 0.8103 - lr: 0.0010\n",
      "Epoch 8/50\n",
      "118/118 [==============================] - 30s 258ms/step - loss: 0.3229 - accuracy: 0.8682 - val_loss: 0.4258 - val_accuracy: 0.8502 - lr: 0.0010\n",
      "Epoch 9/50\n",
      "118/118 [==============================] - 31s 258ms/step - loss: 0.3313 - accuracy: 0.8789 - val_loss: 1.2782 - val_accuracy: 0.7942 - lr: 0.0010\n",
      "Epoch 10/50\n",
      "118/118 [==============================] - 31s 259ms/step - loss: 0.2724 - accuracy: 0.8964 - val_loss: 0.2603 - val_accuracy: 0.9159 - lr: 2.0000e-04\n",
      "Epoch 11/50\n",
      "118/118 [==============================] - 31s 262ms/step - loss: 0.2321 - accuracy: 0.9079 - val_loss: 0.2407 - val_accuracy: 0.9181 - lr: 2.0000e-04\n",
      "Epoch 12/50\n",
      "118/118 [==============================] - 31s 264ms/step - loss: 0.2137 - accuracy: 0.9156 - val_loss: 0.2431 - val_accuracy: 0.9127 - lr: 2.0000e-04\n",
      "Epoch 13/50\n",
      "118/118 [==============================] - 29s 242ms/step - loss: 0.2104 - accuracy: 0.9212 - val_loss: 0.3415 - val_accuracy: 0.9009 - lr: 2.0000e-04\n",
      "Epoch 14/50\n",
      "118/118 [==============================] - 30s 256ms/step - loss: 0.2097 - accuracy: 0.9177 - val_loss: 0.3772 - val_accuracy: 0.8696 - lr: 2.0000e-04\n",
      "Epoch 15/50\n",
      "118/118 [==============================] - 30s 252ms/step - loss: 0.1974 - accuracy: 0.9247 - val_loss: 0.2061 - val_accuracy: 0.9278 - lr: 4.0000e-05\n",
      "Epoch 16/50\n",
      "118/118 [==============================] - 30s 252ms/step - loss: 0.1893 - accuracy: 0.9292 - val_loss: 0.1971 - val_accuracy: 0.9332 - lr: 4.0000e-05\n",
      "Epoch 17/50\n",
      "118/118 [==============================] - 31s 263ms/step - loss: 0.1696 - accuracy: 0.9286 - val_loss: 0.2120 - val_accuracy: 0.9364 - lr: 4.0000e-05\n",
      "Epoch 18/50\n",
      "118/118 [==============================] - 31s 262ms/step - loss: 0.1749 - accuracy: 0.9302 - val_loss: 0.1915 - val_accuracy: 0.9278 - lr: 4.0000e-05\n",
      "Epoch 19/50\n",
      "118/118 [==============================] - 31s 260ms/step - loss: 0.1759 - accuracy: 0.9308 - val_loss: 0.1908 - val_accuracy: 0.9375 - lr: 4.0000e-05\n",
      "Epoch 20/50\n",
      "118/118 [==============================] - 30s 256ms/step - loss: 0.1745 - accuracy: 0.9324 - val_loss: 0.1986 - val_accuracy: 0.9375 - lr: 4.0000e-05\n",
      "Epoch 21/50\n",
      "118/118 [==============================] - 32s 275ms/step - loss: 0.1694 - accuracy: 0.9292 - val_loss: 0.1936 - val_accuracy: 0.9278 - lr: 4.0000e-05\n",
      "Epoch 22/50\n",
      "118/118 [==============================] - 32s 273ms/step - loss: 0.1715 - accuracy: 0.9300 - val_loss: 0.2095 - val_accuracy: 0.9407 - lr: 4.0000e-05\n",
      "Epoch 23/50\n",
      "118/118 [==============================] - 31s 264ms/step - loss: 0.1638 - accuracy: 0.9316 - val_loss: 0.1934 - val_accuracy: 0.9397 - lr: 1.0000e-05\n",
      "Epoch 24/50\n",
      "118/118 [==============================] - 31s 263ms/step - loss: 0.1635 - accuracy: 0.9398 - val_loss: 0.2253 - val_accuracy: 0.9278 - lr: 1.0000e-05\n"
     ]
    }
   ],
   "source": [
    "early_stopping = EarlyStopping(monitor='val_loss', patience=5, restore_best_weights=True)\n",
    "reduce_lr = ReduceLROnPlateau(monitor='val_loss', factor=0.2, patience=3, min_lr=0.00001)\n",
    "\n",
    "model.compile(loss='sparse_categorical_crossentropy', optimizer='Adam', metrics=['accuracy'])\n",
    "result = model.fit(\n",
    "    train_generator,\n",
    "    steps_per_epoch=train_generator.samples // train_generator.batch_size,\n",
    "    validation_data=validation_generator,\n",
    "    validation_steps=validation_generator.samples // validation_generator.batch_size,\n",
    "    epochs=50,\n",
    "    callbacks=[early_stopping, reduce_lr]\n",
    ")"
   ]
  },
  {
   "cell_type": "markdown",
   "id": "3949d7cc-4715-4cd4-bee5-74cd3c62bb41",
   "metadata": {},
   "source": [
    "## Training stats"
   ]
  },
  {
   "cell_type": "code",
   "execution_count": 6,
   "id": "9520cef5-8563-4365-b483-a6424e90fb2b",
   "metadata": {},
   "outputs": [
    {
     "data": {
      "image/png": "[encoded data removed]",
      "text/plain": [
       "<Figure size 640x480 with 1 Axes>"
      ]
     },
     "metadata": {},
     "output_type": "display_data"
    }
   ],
   "source": [
    "plt.plot(result.history['accuracy'])\n",
    "plt.plot(result.history['val_accuracy'])\n",
    "plt.title('Model accuracy')\n",
    "plt.ylabel('accuracy')\n",
    "plt.xlabel('epoch')\n",
    "plt.legend(['acc', 'val'], loc='upper left')\n",
    "plt.show()"
   ]
  },
  {
   "cell_type": "markdown",
   "id": "c068c165-3553-4570-bc8f-819ba20a51a5",
   "metadata": {},
   "source": [
    "## Prediction function"
   ]
  },
  {
   "cell_type": "code",
   "execution_count": 20,
   "id": "ddaa1162-f902-446a-8ff1-a9185c6525bf",
   "metadata": {},
   "outputs": [],
   "source": [
    "def predict_image(model, image_path, target_size=(200, 200)):\n",
    "    img = image.load_img(image_path, target_size=target_size)\n",
    "    img_array = image.img_to_array(img)\n",
    "    img_array = np.expand_dims(img_array, axis=0)\n",
    "    img_array = img_array / 255.0\n",
    "    prediction = model.predict(img_array)\n",
    "    return prediction"
   ]
  },
  {
   "cell_type": "markdown",
   "id": "25fe32db-7b59-4e83-a9ce-b8bb0a4c9bec",
   "metadata": {},
   "source": [
    "## Image prediction"
   ]
  },
  {
   "cell_type": "code",
   "execution_count": 1,
   "id": "7cbfe072-ff0b-45fd-be85-522d7457c6c6",
   "metadata": {},
   "outputs": [],
   "source": [
    "class_labels = ['chihuahua', 'muffin']"
   ]
  },
  {
   "cell_type": "code",
   "execution_count": 36,
   "id": "5b567030-6784-40de-9748-d4bba657738a",
   "metadata": {},
   "outputs": [],
   "source": [
    "def display_and_predict(image_path, model, class_labels):\n",
    "    \"\"\"\n",
    "    Display an image and perform prediction using a pre-trained model.\n",
    "    \n",
    "    Args:\n",
    "        image_path (str): Path to the image file\n",
    "        model: Trained model for prediction\n",
    "        class_labels (list): List of class labels corresponding to model outputs\n",
    "    \n",
    "    Returns:\n",
    "        tuple: (predicted_class, confidence) or (None, None) if error occurs\n",
    "    \n",
    "    Raises:\n",
    "        FileNotFoundError: If image file doesn't exist\n",
    "        ValueError: If model or class_labels are invalid\n",
    "    \"\"\"\n",
    "    try:\n",
    "        # Validate inputs\n",
    "        if not model:\n",
    "            raise ValueError(\"Model cannot be None\")\n",
    "        if not class_labels or not isinstance(class_labels, (list, np.ndarray)):\n",
    "            raise ValueError(\"Invalid class labels\")\n",
    "            \n",
    "        # Display image\n",
    "        from IPython.display import Image, display\n",
    "        display(Image(image_path))\n",
    "        \n",
    "        # Make prediction\n",
    "        prediction = predict_image(model, image_path)\n",
    "        predicted_class = class_labels[np.argmax(prediction)]\n",
    "        confidence = np.max(prediction)\n",
    "        \n",
    "        # Print results\n",
    "        print(f\"Predicted class: {predicted_class}\")\n",
    "        print(f\"Confidence: {confidence:.2f}\")\n",
    "        \n",
    "        return predicted_class, confidence\n",
    "        \n",
    "    except FileNotFoundError:\n",
    "        print(f\"Error: Image file not found at {image_path}\")\n",
    "        return None, None\n",
    "    except Exception as e:\n",
    "        print(f\"Error during prediction: {str(e)}\")\n",
    "        return None, None"
   ]
  },
  {
   "cell_type": "code",
   "execution_count": 38,
   "id": "fab333de-0010-41b7-acf3-a025e10932a7",
   "metadata": {},
   "outputs": [
    {
     "data": {
      "image/jpeg": "[encoded data removed]",
      "text/plain": [
       "<IPython.core.display.Image object>"
      ]
     },
     "metadata": {},
     "output_type": "display_data"
    },
    {
     "name": "stdout",
     "output_type": "stream",
     "text": [
      "\u001b[1m1/1\u001b[0m \u001b[32m━━━━━━━━━━━━━━━━━━━━\u001b[0m\u001b[37m\u001b[0m \u001b[1m0s\u001b[0m 41ms/step\n",
      "Predicted class: chihuahua\n",
      "Confidence: 1.00\n"
     ]
    }
   ],
   "source": [
    "predicted_class_1, confidence_1 = display_and_predict('pictures/1.jpg', model, class_labels)"
   ]
  },
  {
   "cell_type": "code",
   "execution_count": 39,
   "id": "26453e8f-ec60-4ad4-bee0-243e93ab12da",
   "metadata": {},
   "outputs": [
    {
     "data": {
      "image/jpeg": "[encoded data removed]",
      "text/plain": [
       "<IPython.core.display.Image object>"
      ]
     },
     "metadata": {},
     "output_type": "display_data"
    },
    {
     "name": "stdout",
     "output_type": "stream",
     "text": [
      "\u001b[1m1/1\u001b[0m \u001b[32m━━━━━━━━━━━━━━━━━━━━\u001b[0m\u001b[37m\u001b[0m \u001b[1m0s\u001b[0m 41ms/step\n",
      "Predicted class: chihuahua\n",
      "Confidence: 0.95\n"
     ]
    }
   ],
   "source": [
    "predicted_class_2, confidence_2 = display_and_predict('pictures/2.jpg', model, class_labels)"
   ]
  },
  {
   "cell_type": "code",
   "execution_count": 40,
   "id": "aea8e469-697c-4f0a-8621-7ba90540cae0",
   "metadata": {},
   "outputs": [
    {
     "data": {
      "image/jpeg": "[encoded data removed]",
      "text/plain": [
       "<IPython.core.display.Image object>"
      ]
     },
     "metadata": {},
     "output_type": "display_data"
    },
    {
     "name": "stdout",
     "output_type": "stream",
     "text": [
      "\u001b[1m1/1\u001b[0m \u001b[32m━━━━━━━━━━━━━━━━━━━━\u001b[0m\u001b[37m\u001b[0m \u001b[1m0s\u001b[0m 45ms/step\n",
      "Predicted class: muffin\n",
      "Confidence: 0.95\n"
     ]
    }
   ],
   "source": [
    "predicted_class_3, confidence_4 = display_and_predict('pictures/3.jpg', model, class_labels)"
   ]
  },
  {
   "cell_type": "code",
   "execution_count": null,
   "id": "03c0ec71-f946-4b9e-beaa-4727f43ecd5b",
   "metadata": {},
   "outputs": [],
   "source": []
  }
 ],
 "metadata": {
  "kernelspec": {
   "display_name": "Python 3 (ipykernel)",
   "language": "python",
   "name": "python3"
  },
  "language_info": {
   "codemirror_mode": {
    "name": "ipython",
    "version": 3
   },
   "file_extension": ".py",
   "mimetype": "text/x-python",
   "name": "python",
   "nbconvert_exporter": "python",
   "pygments_lexer": "ipython3",
   "version": "3.11.13"
  }
 },
 "nbformat": 4,
 "nbformat_minor": 5
}
